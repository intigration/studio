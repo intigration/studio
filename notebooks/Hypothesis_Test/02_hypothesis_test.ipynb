{
 "cells": [
  {
   "attachments": {},
   "cell_type": "markdown",
   "metadata": {
    "id": "xSDP4bMrIL2x"
   },
   "source": [
    "# Hypothesis Test\n",
    "---"
   ]
  },
  {
   "attachments": {},
   "cell_type": "markdown",
   "metadata": {},
   "source": [
    "1.   **[Definition](#1.-Definition)**\n",
    "1.   **[Notebook Preparation](#2.-Notebook-Preparation)**\n",
    "1.   **[Data Preparation](#3.-Data-Preparation)**\n",
    "1.   **[Hypothesis Test](#4.-Hypothesis-Test)**\n",
    "1.   **[Code Cells](#5.-Code-Cells)**"
   ]
  },
  {
   "attachments": {},
   "cell_type": "markdown",
   "metadata": {},
   "source": [
    "<a name=\"1. Definition\"></a>\n",
    "### 1. Definition"
   ]
  },
  {
   "attachments": {},
   "cell_type": "markdown",
   "metadata": {},
   "source": [
    "Hypothesis testing uses sample data to evaluate an assumption about a population parameter. \n",
    "\n",
    "Data professionals conduct a hypothesis test to decide whether the evidence from sample data supports either the null hypothesis or the alternative hypothesis. \n",
    "\n",
    "**Steps for conducting a hypothesis test:**\n",
    "1.   [State the null and alternative hypothesis](#4.1:-State-the-hypotheses)\n",
    "2.   [Choose a significance level](#4.2:-Specify-the-Significance-Level)\n",
    "3.   [Find the p-value](#4.3:-Find-the-p-value)\n",
    "4.   [Reject or fail to reject the null hypothesis](#4.4:-Reject-or-fail-to-reject-the-null-hypothesis)"
   ]
  },
  {
   "attachments": {},
   "cell_type": "markdown",
   "metadata": {},
   "source": [
    "<a name=\"2.-Notebook-Preparation\"></a>\n",
    "### 2. Notebook Preparation"
   ]
  },
  {
   "cell_type": "code",
   "execution_count": 2,
   "metadata": {
    "id": "_C6AXCrjIMvM"
   },
   "outputs": [],
   "source": [
    "# Import libraries and packages \n",
    "# import pandas as pd\n",
    "# from scipy import stats"
   ]
  },
  {
   "cell_type": "code",
   "execution_count": 7,
   "metadata": {
    "id": "Q1cI14FVEsS8"
   },
   "outputs": [],
   "source": [
    "# Load data\n",
    "# data = pd.read_csv(\"file_name.csv\")\n",
    "# data = data.dropna()"
   ]
  },
  {
   "attachments": {},
   "cell_type": "markdown",
   "metadata": {
    "id": "QdJe4yLiS5r-"
   },
   "source": [
    "<a name=\"3.-Data-Preparation\"></a>\n",
    "### 3. Data Preparation"
   ]
  },
  {
   "attachments": {},
   "cell_type": "markdown",
   "metadata": {},
   "source": [
    "Instantiate the required data:\n",
    "- name variables \n",
    "- apply any conditional filters"
   ]
  },
  {
   "attachments": {},
   "cell_type": "markdown",
   "metadata": {
    "id": "U6-SPgP2UADq"
   },
   "source": [
    "#### 3.1 Simulate random sampling"
   ]
  },
  {
   "attachments": {},
   "cell_type": "markdown",
   "metadata": {},
   "source": [
    "**Sample 1:** \n",
    "\n",
    "After data prep, use the `sample()` function to take a random sample. \n",
    "- First, name a new variable: eg. `x1`. \n",
    "- Then, enter the arguments of the `sample()` function. \n",
    "    *   `n`: Sample size \n",
    "    *   `replace`: `True` if sampling with replacement.\n",
    "    *   `random_state`: specify random seed number"
   ]
  },
  {
   "cell_type": "code",
   "execution_count": null,
   "metadata": {
    "id": "T7Xbx5XtFAGU"
   },
   "outputs": [],
   "source": [
    "# x1 = x1.sample(n= , replace= True, random_state= 42)"
   ]
  },
  {
   "attachments": {},
   "cell_type": "markdown",
   "metadata": {
    "id": "cRrhbM4WULQ8"
   },
   "source": [
    "**Sample 2:**\n",
    " \n",
    "For the second sample:\n",
    "- Follow the same procedure as for sample 1\n",
    "- choose a different number for the random seed"
   ]
  },
  {
   "cell_type": "code",
   "execution_count": null,
   "metadata": {
    "id": "BE555gsmULmX"
   },
   "outputs": [],
   "source": [
    "# x2 = x2.sample(n= , replace= True, random_state= 420)"
   ]
  },
  {
   "attachments": {},
   "cell_type": "markdown",
   "metadata": {
    "id": "A_wXNJTSwU1T"
   },
   "source": [
    "#### 3.2 Compute sample means\n",
    "\n",
    "Use `mean()` to compute the mean for both samples."
   ]
  },
  {
   "cell_type": "code",
   "execution_count": 6,
   "metadata": {
    "colab": {
     "base_uri": "https://localhost:8080/"
    },
    "id": "WtCBv7Pdzp1S",
    "outputId": "8867edc3-630a-4c49-9cef-23160a59b4fb"
   },
   "outputs": [],
   "source": [
    "# x1['column_name'].mean()"
   ]
  },
  {
   "cell_type": "code",
   "execution_count": 5,
   "metadata": {
    "colab": {
     "base_uri": "https://localhost:8080/"
    },
    "id": "T2YShgan0MDg",
    "outputId": "301fbf0e-a7e8-4c4c-cbe3-7870fc7c9e44"
   },
   "outputs": [],
   "source": [
    "# x2['column_name'].mean()"
   ]
  },
  {
   "attachments": {},
   "cell_type": "markdown",
   "metadata": {
    "id": "hqjCHOPRwh_j"
   },
   "source": [
    "**Note**: At this point, one might be tempted to conclude that `sample 1` has a higher/lower mean than `sample 2`. However, due to sampling variability, this observed difference might simply be due to chance - rather than an actual difference in the corresponding population means. \n",
    "- A hypothesis test is used to determine whether or not the results are statistically significant. "
   ]
  },
  {
   "attachments": {},
   "cell_type": "markdown",
   "metadata": {
    "id": "ozRJehHPZQ6i"
   },
   "source": [
    "<a name=\"4.-Hypothesis-Test\"></a>\n",
    "### 4. Hypothesis Test"
   ]
  },
  {
   "attachments": {},
   "cell_type": "markdown",
   "metadata": {},
   "source": [
    "**Definitions:**\n",
    "- One-Sample: \n",
    "    - Compares a sample mean or proportion to a known population mean or proportion. This type of test is used when we want to know whether a sample is statistically different from a population, or if an intervention or treatment has a significant effect on a population. For example, a one-sample t-test can be used to determine if the average weight of a sample of apples is different from a known population mean weight.\n",
    "- Two-Sample\n",
    "    - Compares two sample means or proportions to each other. This type of test is used when we want to compare two groups to see if there is a statistically significant difference between them. For example, a two-sample t-test can be used to determine if there is a statistically significant difference in the average test scores between two different classes of students.\n",
    "- T-test\n",
    "    - t-tests are used when the population variance is unknown and the sample size is small (typically, a sample size less than 30). The test statistic for a t-test is calculated using the t-distribution, which takes into account the added uncertainty that comes with estimating the population variance from a small sample. The t-test is more robust than the z-test in situations where the population variance is unknown, and it is more likely to produce reliable results with small sample sizes.\n",
    "- Z-test\n",
    "    - Used when the population variance is known, or when the sample size is large (typically, a sample size greater than 30). The test statistic for a z-test is calculated using the standard normal distribution, and the null hypothesis is tested against a standard normal distribution. The z-test is useful when the population variance is known, as it provides a more precise estimate of the true population mean."
   ]
  },
  {
   "attachments": {},
   "cell_type": "markdown",
   "metadata": {
    "id": "HSbe913K6psC"
   },
   "source": [
    "#### 4.1: State the hypotheses\n"
   ]
  },
  {
   "attachments": {},
   "cell_type": "markdown",
   "metadata": {},
   "source": [
    "- The **null hypothesis** is a statement that is assumed to be true unless there is convincing evidence to the contrary. \n",
    "- The **alternative hypothesis** is a statement that contradicts the null hypothesis, and is accepted as true only if there is convincing evidence for it. \n",
    "\n",
    "In a two-sample t-test, the null hypothesis states that there is no difference between the means of your two groups. The alternative hypothesis states the contrary claim: there is a difference between the means of your two groups. \n",
    "\n",
    "*   $H_0$: There is no difference in the mean `['chosen field']` between `x1` and `x2`\n",
    "*   $H_A$: There is a difference in the mean `['chosen field']` between `x1` and `x2`"
   ]
  },
  {
   "attachments": {},
   "cell_type": "markdown",
   "metadata": {
    "id": "eZpCqv6D9241"
   },
   "source": [
    "#### 4.2: Specify the Significance Level\n"
   ]
  },
  {
   "attachments": {},
   "cell_type": "markdown",
   "metadata": {},
   "source": [
    "\n",
    "The **significance level** is the threshold at which a result is considered statistically significant. This is the probability of rejecting the null hypothesis when it is true. \n",
    "- **Standard is 5%, or 0.05.**"
   ]
  },
  {
   "attachments": {},
   "cell_type": "markdown",
   "metadata": {
    "id": "0k3BHBhR8bCZ"
   },
   "source": [
    "#### 4.3: Find the p-value"
   ]
  },
  {
   "attachments": {},
   "cell_type": "markdown",
   "metadata": {},
   "source": [
    "**P-value:** probability of observing results as or more extreme than those observed when the null hypothesis is true.\n",
    "\n",
    "- Based on sample data, the difference between the mean of `x1` and `x2` is `n%`. Null hypothesis claims that this difference is due to chance. P-value is the probability of observing an absolute difference in sample means that is `n%` or greater *if* the null hypothesis is true. \n",
    "- If the probability of this outcome is very unlikely - in particular, if p-value is *less than* the significance level of 5% – then reject the null hypothesis."
   ]
  },
  {
   "attachments": {},
   "cell_type": "markdown",
   "metadata": {
    "id": "hWLkcY05_aLf"
   },
   "source": [
    "#### 4.4: Reject or fail to reject the null hypothesis"
   ]
  },
  {
   "attachments": {},
   "cell_type": "markdown",
   "metadata": {},
   "source": [
    "\n",
    "To draw a conclusion, compare p-value with the significance level.\n",
    "\n",
    "*   If the **p-value < significance level**, conclude that there is a statistically significant difference in the sample means and ***reject the null hypothesis*** $H_0$.\n",
    "*   If the **p-value > the significance level**, conclude there is *not* a statistically significant difference in the sample means and therefore ***fail to reject the null hypothesis*** $H_0$.\n"
   ]
  },
  {
   "attachments": {},
   "cell_type": "markdown",
   "metadata": {},
   "source": [
    "#### 5: Code Cells"
   ]
  },
  {
   "attachments": {},
   "cell_type": "markdown",
   "metadata": {},
   "source": [
    "##### 5.1: One-Sample $t$-test:"
   ]
  },
  {
   "cell_type": "code",
   "execution_count": null,
   "metadata": {},
   "outputs": [],
   "source": [
    "# import numpy as np\n",
    "# from scipy.stats import ttest_1samp\n",
    "\n",
    "# sample = np.array([1.2, 1.8, 0.9, 1.3, 1.5, 1.4, 1.6, 1.1, 1.7, 1.2])\n",
    "\n",
    "# null_hypothesis = 1.5   # The null hypothesis is that the population mean is 1.5 for this example\n",
    "# alpha =  0.05           # The significance level is 5%\n",
    "\n",
    "# t_statistic, p_value = ttest_1samp(data, null_hypothesis)\n",
    "\n",
    "# # Check the p-value against the significance level to determine whether to reject or fail to reject the null hypothesis:\n",
    "# if p_value < alpha:\n",
    "#     print(\"The p-value is\", p_value, \"which is less than the significance level of\", alpha)\n",
    "#     print(\"We reject the null hypothesis that the population mean is\", null_hypothesis)\n",
    "# else:\n",
    "#     print(\"The p-value is\", p_value, \"which is greater than or equal to the significance level of\", alpha)\n",
    "#     print(\"We fail to reject the null hypothesis that the population mean is\", null_hypothesis)"
   ]
  },
  {
   "attachments": {},
   "cell_type": "markdown",
   "metadata": {},
   "source": [
    "##### 5.2: One-Sample $z$-test:"
   ]
  },
  {
   "cell_type": "code",
   "execution_count": null,
   "metadata": {},
   "outputs": [],
   "source": [
    "# import numpy as np\n",
    "# from scipy.stats import norm\n",
    "\n",
    "# data = sample = np.array([1.2, 1.8, 0.9, 1.3, 1.5, 1.4, 1.6, 1.1, 1.7, 1.2])\n",
    "\n",
    "# null_hypothesis = 1.5     # The null hypothesis is that the population mean is 1.5 for this example\n",
    "# sigma = 0.3               # The population standard deviation has to be know for z-tests\n",
    "# alpha = 0.05            # The significance level is 5%\n",
    "\n",
    "# # Calculate the z-score\n",
    "# z_score = (np.mean(data) - null_hypothesis) / (sigma / np.sqrt(len(data)))\n",
    "\n",
    "# # Calculate the p-value\n",
    "# p_value = 2 * norm.sf(np.abs(z_score))  # two-sided test\n",
    "\n",
    "# # Check the p-value against the significance level to determine whether to reject or fail to reject the null hypothesis:\n",
    "# if p_value < alpha:\n",
    "#     print(\"The p-value is\", p_value, \"which is less than the significance level of\", alpha)\n",
    "#     print(\"We reject the null hypothesis that the population mean is\", null_hypothesis)\n",
    "# else:\n",
    "#     print(\"The p-value is\", p_value, \"which is greater than or equal to the significance level of\", alpha)\n",
    "#     print(\"We fail to reject the null hypothesis that the population mean is\", null_hypothesis)"
   ]
  },
  {
   "attachments": {},
   "cell_type": "markdown",
   "metadata": {},
   "source": [
    "##### 5.3: Two-Sample $t$-test:"
   ]
  },
  {
   "attachments": {},
   "cell_type": "markdown",
   "metadata": {},
   "source": [
    "`scipy.stats.ttest_ind(a, b, equal_var= )` to compute p-value. \n",
    "\n",
    "This function includes the arguments:\n",
    "\n",
    "*   `a`: Observations from the first sample. \n",
    "*   `b`: Observations from the second sample.\n",
    "*   `equal_var`: A boolean statement which indicates whether the population variance of the two samples is assumed to be equal.\n",
    "    - Without access to the data of the entire population avoid making a wrong assumption and set this argument to `False`. \n",
    "\n",
    "Reference: https://docs.scipy.org/doc/scipy/reference/generated/scipy.stats.ttest_ind.html."
   ]
  },
  {
   "cell_type": "code",
   "execution_count": null,
   "metadata": {},
   "outputs": [],
   "source": [
    "# import numpy as np\n",
    "# from scipy.stats import ttest_ind\n",
    "\n",
    "# sample1 = np.array([1.2, 1.8, 0.9, 1.3, 1.5])\n",
    "# sample2 = np.array([1.4, 1.6, 1.1, 1.7, 1.2])\n",
    "\n",
    "# # Specify the null hypothesis and the significance level (alpha)\n",
    "# null_hypothesis = 0  # The null hypothesis is that the population means are equal\n",
    "# alpha = 0.05  # The significance level is 5%\n",
    "\n",
    "# # Use the ttest_ind() function to perform the two-sample t-test\n",
    "# t_statistic, p_value = ttest_ind(sample1, sample2, equal_var= False) \n",
    "\n",
    "# # Check the p-value against the significance level to determine whether to reject or fail to reject the null hypothesis\n",
    "# if p_value < alpha:\n",
    "#     print(\"The p-value is\", p_value, \"which is less than the significance level of\", alpha)\n",
    "#     print(\"We reject the null hypothesis that the population means are equal\")\n",
    "# else:\n",
    "#     print(\"The p-value is\", p_value, \"which is greater than or equal to the significance level of\", alpha)\n",
    "#     print(\"We fail to reject the null hypothesis that the population means are equal\")"
   ]
  },
  {
   "attachments": {},
   "cell_type": "markdown",
   "metadata": {},
   "source": [
    "##### 5.4: Two-Sample $z$-test:"
   ]
  },
  {
   "attachments": {},
   "cell_type": "markdown",
   "metadata": {},
   "source": [
    "**Notes:** \n",
    "- the z-test assumes that the population standard deviations are known. If the population standard deviations are unknown, a two-sample t-test is often more appropriate\n",
    "- when the `ddof` parameter is set to 1, we are adjusting the calculation of the sample standard deviation to take into account that one degree of freedom is lost due to estimating the sample mean. This is the most commonly used value for ddof in practice, and it provides an unbiased estimator of the population standard deviation."
   ]
  },
  {
   "cell_type": "code",
   "execution_count": null,
   "metadata": {},
   "outputs": [],
   "source": [
    "# import numpy as np\n",
    "# from scipy.stats import norm\n",
    "\n",
    "# sample1 = np.array([1.2, 1.8, 0.9, 1.3, 1.5])\n",
    "# sample2 = np.array([1.4, 1.6, 1.1, 1.7, 1.2])\n",
    "\n",
    "# # Specify the null hypothesis, the population standard deviation (sigma), and the significance level (alpha)\n",
    "# null_hypothesis = 0  # The null hypothesis is that the population means are equal\n",
    "# sigma1 = np.std(sample1, ddof=1)  # The sample standard deviations are used to estimate the population standard deviations\n",
    "# sigma2 = np.std(sample2, ddof=1)\n",
    "# n1 = len(sample1)  # The sample sizes\n",
    "# n2 = len(sample2)\n",
    "# alpha = 0.05  # The significance level is 5%\n",
    "\n",
    "# # Calculate the z-score\n",
    "# z_score = ((np.mean(sample1) - np.mean(sample2)) - null_hypothesis) / np.sqrt((sigma1**2/n1) + (sigma2**2/n2))\n",
    "\n",
    "# # Calculate the p-value using the standard normal distribution (since the null hypothesis is that the population means are equal, rather than a range of values)\n",
    "# p_value = 2 * norm.sf(np.abs(z_score))  # two-sided test\n",
    "\n",
    "# # Check the p-value against the significance level to determine whether to reject or fail to reject the null hypothesis\n",
    "# if p_value < alpha:\n",
    "#     print(\"The p-value is\", p_value, \"which is less than the significance level of\", alpha)\n",
    "#     print(\"We reject the null hypothesis that the population means are equal\")\n",
    "# else:\n",
    "#     print(\"The p-value is\", p_value, \"which is greater than or equal to the significance level of\", alpha)\n",
    "#     print(\"We fail to reject the null hypothesis that the population means are equal\")\n"
   ]
  }
 ],
 "metadata": {
  "colab": {
   "collapsed_sections": [],
   "provenance": [
    {
     "file_id": "1BgN3Lv1fx-AxyKSqB_2kM3dJ4mFBctv_",
     "timestamp": 1662734078308
    },
    {
     "file_id": "1ZYfhIvPRxnw7ghB_BsNQAMUorLXpAZs_",
     "timestamp": 1658889786811
    }
   ]
  },
  "kernelspec": {
   "display_name": "Python 3",
   "language": "python",
   "name": "python3"
  },
  "language_info": {
   "codemirror_mode": {
    "name": "ipython",
    "version": 3
   },
   "file_extension": ".py",
   "mimetype": "text/x-python",
   "name": "python",
   "nbconvert_exporter": "python",
   "pygments_lexer": "ipython3",
   "version": "3.11.2"
  }
 },
 "nbformat": 4,
 "nbformat_minor": 1
}
